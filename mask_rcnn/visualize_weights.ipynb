{
 "cells": [
  {
   "cell_type": "code",
   "execution_count": 19,
   "metadata": {},
   "outputs": [
    {
     "name": "stdout",
     "output_type": "stream",
     "text": [
      "weights shape: (7, 7, 1, 64)\n",
      "-0.08827526 0.10158301\n"
     ]
    },
    {
     "data": {
      "image/png": "[encoded data removed]",
      "text/plain": [
       "<Figure size 144x144 with 64 Axes>"
      ]
     },
     "metadata": {},
     "output_type": "display_data"
    }
   ],
   "source": [
    "import h5py\n",
    "import numpy as np\n",
    "from matplotlib import pyplot as plt\n",
    "\n",
    "model = \"depth\"\n",
    "\n",
    "filenames = {\n",
    "    \"coco\": 'logs/hinterstoisser_rgb_coco20180514T1037/mask_rcnn_hinterstoisser_rgb_coco_0100.h5',\n",
    "    \"rgb_nat\" : 'logs/hinterstoisser_rgb_20180511T0924/mask_rcnn_hinterstoisser_rgb_only_0100.h5',\n",
    "    \"rgb_simple\" : 'logs/sixd20180406T1527/mask_rcnn_sixd_0100.h5',\n",
    "    \"rgb_advanced\" : 'logs/overlay3d20180420T0727/mask_rcnn_overlay3d_0058.h5',\n",
    "    \"depth\" : 'logs/hinterstoisser_depth_only_20180507T1114/mask_rcnn_hinterstoisser_0100.h5',\n",
    "}\n",
    "\n",
    "filename = filenames[model]\n",
    "f = h5py.File(filename, 'r')\n",
    "\n",
    "# rgb shape: (7, 7, 3, 64)\n",
    "weights = f['conv1']['conv1']['kernel:0'].value\n",
    "print(\"weights shape:\", weights.shape)\n",
    "\n",
    "mi, ma = weights.min(), weights.max()\n",
    "weights = (weights - mi) / (ma - mi)\n",
    "\n",
    "H, W = 8, 8\n",
    "\n",
    "plt.figure(figsize=(2, 2))\n",
    "for i in range(H):\n",
    "    for j in range(W):\n",
    "        plt.subplot(H, W, i * W + j + 1)\n",
    "        if weights.shape[2] == 3:\n",
    "            plt.imshow(weights[:, :, :, i * W + j])\n",
    "        else:\n",
    "            plt.imshow(weights[:, :, 0, i * W + j], cmap='Greys')\n",
    "        plt.axis('off')\n",
    "\n",
    "print(mi, ma)\n",
    "plt.subplots_adjust(0, 0, 1, 1)\n",
    "plt.savefig(\"weight_visualisations/{}.png\".format(model), dpi=300)"
   ]
  },
  {
   "cell_type": "code",
   "execution_count": null,
   "metadata": {},
   "outputs": [],
   "source": []
  }
 ],
 "metadata": {
  "kernelspec": {
   "display_name": "Python 3",
   "language": "python",
   "name": "python3"
  },
  "language_info": {
   "codemirror_mode": {
    "name": "ipython",
    "version": 3
   },
   "file_extension": ".py",
   "mimetype": "text/x-python",
   "name": "python",
   "nbconvert_exporter": "python",
   "pygments_lexer": "ipython3",
   "version": "3.5.2"
  }
 },
 "nbformat": 4,
 "nbformat_minor": 2
}
