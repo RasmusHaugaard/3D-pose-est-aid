{
 "cells": [
  {
   "cell_type": "code",
   "execution_count": 4,
   "metadata": {},
   "outputs": [
    {
     "name": "stdout",
     "output_type": "stream",
     "text": [
      "Creating and caching definition file: image_def_train2017_250.yaml\n"
     ]
    },
    {
     "name": "stderr",
     "output_type": "stream",
     "text": [
      "100% |########################################################################|\n"
     ]
    }
   ],
   "source": [
    "import os\n",
    "import sys\n",
    "\n",
    "sys.path.append('./Mask_RCNN/mrcnn')\n",
    "import utils\n",
    "import model as modellib\n",
    "from Sixd import SixdConfig, SixdDataset\n",
    "\n",
    "dataset_coco_dir = '../datasets/coco'\n",
    "dataset_sixd_dir = '../datasets/sixd/doumanoglou/train'\n",
    "\n",
    "dataset_train = SixdDataset()\n",
    "dataset_train.load_sixd(250, dataset_coco_dir, 'train', dataset_sixd_dir)\n",
    "dataset_train.prepare()"
   ]
  },
  {
   "cell_type": "code",
   "execution_count": 12,
   "metadata": {},
   "outputs": [],
   "source": [
    "from skimage import io\n",
    "\n",
    "for i in range(250):\n",
    "    io.imsave('overlay_instances_2d/examples/{}.png'.format(i), dataset_train.load_image(i))"
   ]
  },
  {
   "cell_type": "code",
   "execution_count": null,
   "metadata": {},
   "outputs": [],
   "source": []
  }
 ],
 "metadata": {
  "kernelspec": {
   "display_name": "Python 3",
   "language": "python",
   "name": "python3"
  },
  "language_info": {
   "codemirror_mode": {
    "name": "ipython",
    "version": 3
   },
   "file_extension": ".py",
   "mimetype": "text/x-python",
   "name": "python",
   "nbconvert_exporter": "python",
   "pygments_lexer": "ipython3",
   "version": "3.5.2"
  }
 },
 "nbformat": 4,
 "nbformat_minor": 2
}
